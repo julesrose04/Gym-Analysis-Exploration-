{
 "cells": [
  {
   "cell_type": "markdown",
   "id": "2ed90a12-6273-4cf6-81f2-aed0d93c4b1e",
   "metadata": {
    "slideshow": {
     "slide_type": "slide"
    }
   },
   "source": [
    "# Gym Members Dataset Analysis"
   ]
  },
  {
   "cell_type": "markdown",
   "id": "6dee613a-6dab-4c9f-ba56-2c59225c9652",
   "metadata": {
    "slideshow": {
     "slide_type": "fragment"
    }
   },
   "source": [
    "#### Presented by: Jules Perna and Yany Martinez"
   ]
  },
  {
   "cell_type": "markdown",
   "id": "8a30fbc7-ac10-4ecf-95be-fc40229b379b",
   "metadata": {
    "slideshow": {
     "slide_type": "fragment"
    }
   },
   "source": [
    "**Motivation**\n",
    "\n",
    "We chose this dataset because it provides insight to the relationship between exercise habits and how it can benefit your overall health. By analyzing factors like workout duration, calories burned, workout type, we can quantify how these different exercise methods provide a positive outcome. "
   ]
  },
  {
   "cell_type": "markdown",
   "id": "2794d00e-af99-4688-9db0-f70d49f71601",
   "metadata": {
    "slideshow": {
     "slide_type": "slide"
    }
   },
   "source": [
    "For our analysis we chose to investigate a gym members exercise dataset. This dataset provides a detailed overview of gym members exercicse routines, physical attributes, and fitness metrics. It contains 973 samples of gym data, including key performance indicators such as heart rate, calories burned, and workout duration. For our analysis specifically, we will be looking at the relationship between duration of a specific exercise and the amount of calories burned, comparing the weights of females and males, and analyzing the correlation between calories burned and weight.\n",
    "\n",
    "**Note: This dataset was generated using simulated data based on realistic gym exercise patterns**"
   ]
  },
  {
   "cell_type": "markdown",
   "id": "794af55d-df02-4991-ab5d-ea0d697e284e",
   "metadata": {
    "slideshow": {
     "slide_type": "notes"
    }
   },
   "source": [
    "The libraries we will be using for our analysis is pandas for filtering our data, matplotlib for plotting, numpy for any calculations, and ipywidgets for... widgets."
   ]
  },
  {
   "cell_type": "code",
   "execution_count": 1,
   "id": "63bf3951-270a-4998-9612-138c7065add9",
   "metadata": {
    "slideshow": {
     "slide_type": "slide"
    }
   },
   "outputs": [],
   "source": [
    "# Importing Libraries\n",
    "import pandas as pd\n",
    "import matplotlib.pyplot as plt\n",
    "import numpy as np\n",
    "import ipywidgets as widgets\n",
    "from ipywidgets import interactive, interact"
   ]
  },
  {
   "cell_type": "code",
   "execution_count": 3,
   "id": "7eb40171",
   "metadata": {
    "slideshow": {
     "slide_type": "slide"
    }
   },
   "outputs": [
    {
     "data": {
      "text/html": [
       "<div>\n",
       "<style scoped>\n",
       "    .dataframe tbody tr th:only-of-type {\n",
       "        vertical-align: middle;\n",
       "    }\n",
       "\n",
       "    .dataframe tbody tr th {\n",
       "        vertical-align: top;\n",
       "    }\n",
       "\n",
       "    .dataframe thead th {\n",
       "        text-align: right;\n",
       "    }\n",
       "</style>\n",
       "<table border=\"1\" class=\"dataframe\">\n",
       "  <thead>\n",
       "    <tr style=\"text-align: right;\">\n",
       "      <th></th>\n",
       "      <th>Age</th>\n",
       "      <th>Gender</th>\n",
       "      <th>Weight(kg)</th>\n",
       "      <th>Height (m)</th>\n",
       "      <th>Max_BPM</th>\n",
       "      <th>Avg_BPM</th>\n",
       "      <th>Resting_BPM</th>\n",
       "      <th>Session_Duration (hours)</th>\n",
       "      <th>Calories_Burned</th>\n",
       "      <th>Workout_Type</th>\n",
       "      <th>Fat_Percentage</th>\n",
       "      <th>Water_Intake (liters)</th>\n",
       "      <th>Workout_Frequency (days/week)</th>\n",
       "      <th>Experience_Level</th>\n",
       "      <th>BMI</th>\n",
       "    </tr>\n",
       "  </thead>\n",
       "  <tbody>\n",
       "    <tr>\n",
       "      <th>0</th>\n",
       "      <td>56</td>\n",
       "      <td>Male</td>\n",
       "      <td>88.3</td>\n",
       "      <td>1.71</td>\n",
       "      <td>180</td>\n",
       "      <td>157</td>\n",
       "      <td>60</td>\n",
       "      <td>1.69</td>\n",
       "      <td>1313</td>\n",
       "      <td>Yoga</td>\n",
       "      <td>12.6</td>\n",
       "      <td>3.5</td>\n",
       "      <td>4</td>\n",
       "      <td>3</td>\n",
       "      <td>30.20</td>\n",
       "    </tr>\n",
       "    <tr>\n",
       "      <th>1</th>\n",
       "      <td>46</td>\n",
       "      <td>Female</td>\n",
       "      <td>74.9</td>\n",
       "      <td>1.53</td>\n",
       "      <td>179</td>\n",
       "      <td>151</td>\n",
       "      <td>66</td>\n",
       "      <td>1.30</td>\n",
       "      <td>883</td>\n",
       "      <td>HIIT</td>\n",
       "      <td>33.9</td>\n",
       "      <td>2.1</td>\n",
       "      <td>4</td>\n",
       "      <td>2</td>\n",
       "      <td>32.00</td>\n",
       "    </tr>\n",
       "    <tr>\n",
       "      <th>2</th>\n",
       "      <td>32</td>\n",
       "      <td>Female</td>\n",
       "      <td>68.1</td>\n",
       "      <td>1.66</td>\n",
       "      <td>167</td>\n",
       "      <td>122</td>\n",
       "      <td>54</td>\n",
       "      <td>1.11</td>\n",
       "      <td>677</td>\n",
       "      <td>Cardio</td>\n",
       "      <td>33.4</td>\n",
       "      <td>2.3</td>\n",
       "      <td>4</td>\n",
       "      <td>2</td>\n",
       "      <td>24.71</td>\n",
       "    </tr>\n",
       "    <tr>\n",
       "      <th>3</th>\n",
       "      <td>25</td>\n",
       "      <td>Male</td>\n",
       "      <td>53.2</td>\n",
       "      <td>1.70</td>\n",
       "      <td>190</td>\n",
       "      <td>164</td>\n",
       "      <td>56</td>\n",
       "      <td>0.59</td>\n",
       "      <td>532</td>\n",
       "      <td>Strength</td>\n",
       "      <td>28.8</td>\n",
       "      <td>2.1</td>\n",
       "      <td>3</td>\n",
       "      <td>1</td>\n",
       "      <td>18.41</td>\n",
       "    </tr>\n",
       "    <tr>\n",
       "      <th>4</th>\n",
       "      <td>38</td>\n",
       "      <td>Male</td>\n",
       "      <td>46.1</td>\n",
       "      <td>1.79</td>\n",
       "      <td>188</td>\n",
       "      <td>158</td>\n",
       "      <td>68</td>\n",
       "      <td>0.64</td>\n",
       "      <td>556</td>\n",
       "      <td>Strength</td>\n",
       "      <td>29.2</td>\n",
       "      <td>2.8</td>\n",
       "      <td>3</td>\n",
       "      <td>1</td>\n",
       "      <td>14.39</td>\n",
       "    </tr>\n",
       "    <tr>\n",
       "      <th>...</th>\n",
       "      <td>...</td>\n",
       "      <td>...</td>\n",
       "      <td>...</td>\n",
       "      <td>...</td>\n",
       "      <td>...</td>\n",
       "      <td>...</td>\n",
       "      <td>...</td>\n",
       "      <td>...</td>\n",
       "      <td>...</td>\n",
       "      <td>...</td>\n",
       "      <td>...</td>\n",
       "      <td>...</td>\n",
       "      <td>...</td>\n",
       "      <td>...</td>\n",
       "      <td>...</td>\n",
       "    </tr>\n",
       "    <tr>\n",
       "      <th>968</th>\n",
       "      <td>24</td>\n",
       "      <td>Male</td>\n",
       "      <td>87.1</td>\n",
       "      <td>1.74</td>\n",
       "      <td>187</td>\n",
       "      <td>158</td>\n",
       "      <td>67</td>\n",
       "      <td>1.57</td>\n",
       "      <td>1364</td>\n",
       "      <td>Strength</td>\n",
       "      <td>10.0</td>\n",
       "      <td>3.5</td>\n",
       "      <td>4</td>\n",
       "      <td>3</td>\n",
       "      <td>28.77</td>\n",
       "    </tr>\n",
       "    <tr>\n",
       "      <th>969</th>\n",
       "      <td>25</td>\n",
       "      <td>Male</td>\n",
       "      <td>66.6</td>\n",
       "      <td>1.61</td>\n",
       "      <td>184</td>\n",
       "      <td>166</td>\n",
       "      <td>56</td>\n",
       "      <td>1.38</td>\n",
       "      <td>1260</td>\n",
       "      <td>Strength</td>\n",
       "      <td>25.0</td>\n",
       "      <td>3.0</td>\n",
       "      <td>2</td>\n",
       "      <td>1</td>\n",
       "      <td>25.69</td>\n",
       "    </tr>\n",
       "    <tr>\n",
       "      <th>970</th>\n",
       "      <td>59</td>\n",
       "      <td>Female</td>\n",
       "      <td>60.4</td>\n",
       "      <td>1.76</td>\n",
       "      <td>194</td>\n",
       "      <td>120</td>\n",
       "      <td>53</td>\n",
       "      <td>1.72</td>\n",
       "      <td>929</td>\n",
       "      <td>Cardio</td>\n",
       "      <td>18.8</td>\n",
       "      <td>2.7</td>\n",
       "      <td>5</td>\n",
       "      <td>3</td>\n",
       "      <td>19.50</td>\n",
       "    </tr>\n",
       "    <tr>\n",
       "      <th>971</th>\n",
       "      <td>32</td>\n",
       "      <td>Male</td>\n",
       "      <td>126.4</td>\n",
       "      <td>1.83</td>\n",
       "      <td>198</td>\n",
       "      <td>146</td>\n",
       "      <td>62</td>\n",
       "      <td>1.10</td>\n",
       "      <td>883</td>\n",
       "      <td>HIIT</td>\n",
       "      <td>28.2</td>\n",
       "      <td>2.1</td>\n",
       "      <td>3</td>\n",
       "      <td>2</td>\n",
       "      <td>37.74</td>\n",
       "    </tr>\n",
       "    <tr>\n",
       "      <th>972</th>\n",
       "      <td>46</td>\n",
       "      <td>Male</td>\n",
       "      <td>88.7</td>\n",
       "      <td>1.63</td>\n",
       "      <td>166</td>\n",
       "      <td>146</td>\n",
       "      <td>66</td>\n",
       "      <td>0.75</td>\n",
       "      <td>542</td>\n",
       "      <td>Strength</td>\n",
       "      <td>28.8</td>\n",
       "      <td>3.5</td>\n",
       "      <td>2</td>\n",
       "      <td>1</td>\n",
       "      <td>33.38</td>\n",
       "    </tr>\n",
       "  </tbody>\n",
       "</table>\n",
       "<p>973 rows × 15 columns</p>\n",
       "</div>"
      ],
      "text/plain": [
       "     Age  Gender  Weight(kg)  Height (m)  Max_BPM  Avg_BPM  Resting_BPM  \\\n",
       "0     56    Male        88.3        1.71      180      157           60   \n",
       "1     46  Female        74.9        1.53      179      151           66   \n",
       "2     32  Female        68.1        1.66      167      122           54   \n",
       "3     25    Male        53.2        1.70      190      164           56   \n",
       "4     38    Male        46.1        1.79      188      158           68   \n",
       "..   ...     ...         ...         ...      ...      ...          ...   \n",
       "968   24    Male        87.1        1.74      187      158           67   \n",
       "969   25    Male        66.6        1.61      184      166           56   \n",
       "970   59  Female        60.4        1.76      194      120           53   \n",
       "971   32    Male       126.4        1.83      198      146           62   \n",
       "972   46    Male        88.7        1.63      166      146           66   \n",
       "\n",
       "     Session_Duration (hours)  Calories_Burned Workout_Type  Fat_Percentage  \\\n",
       "0                        1.69             1313         Yoga            12.6   \n",
       "1                        1.30              883         HIIT            33.9   \n",
       "2                        1.11              677       Cardio            33.4   \n",
       "3                        0.59              532     Strength            28.8   \n",
       "4                        0.64              556     Strength            29.2   \n",
       "..                        ...              ...          ...             ...   \n",
       "968                      1.57             1364     Strength            10.0   \n",
       "969                      1.38             1260     Strength            25.0   \n",
       "970                      1.72              929       Cardio            18.8   \n",
       "971                      1.10              883         HIIT            28.2   \n",
       "972                      0.75              542     Strength            28.8   \n",
       "\n",
       "     Water_Intake (liters)  Workout_Frequency (days/week)  Experience_Level  \\\n",
       "0                      3.5                              4                 3   \n",
       "1                      2.1                              4                 2   \n",
       "2                      2.3                              4                 2   \n",
       "3                      2.1                              3                 1   \n",
       "4                      2.8                              3                 1   \n",
       "..                     ...                            ...               ...   \n",
       "968                    3.5                              4                 3   \n",
       "969                    3.0                              2                 1   \n",
       "970                    2.7                              5                 3   \n",
       "971                    2.1                              3                 2   \n",
       "972                    3.5                              2                 1   \n",
       "\n",
       "       BMI  \n",
       "0    30.20  \n",
       "1    32.00  \n",
       "2    24.71  \n",
       "3    18.41  \n",
       "4    14.39  \n",
       "..     ...  \n",
       "968  28.77  \n",
       "969  25.69  \n",
       "970  19.50  \n",
       "971  37.74  \n",
       "972  33.38  \n",
       "\n",
       "[973 rows x 15 columns]"
      ]
     },
     "execution_count": 3,
     "metadata": {},
     "output_type": "execute_result"
    }
   ],
   "source": [
    "# Import Data\n",
    "gymData = pd.read_csv('gym_data.csv', delimiter = ',')\n",
    "gymData"
   ]
  },
  {
   "cell_type": "markdown",
   "id": "4f800d78-f568-487f-98c0-37ae23aee52b",
   "metadata": {
    "slideshow": {
     "slide_type": "fragment"
    }
   },
   "source": [
    "For the purpose of our analysis, we will only be looking at the categories: Gender, Weight(kg), Session_Duration(hours), Calories_Burned, Workout_Type, and Age. We will be using the pandas library to help us with filtering our data because we are looking at columns with words that carry no numerical value."
   ]
  },
  {
   "cell_type": "markdown",
   "id": "e82e2d32-3c65-4171-8d0a-38a474d5b7f7",
   "metadata": {
    "slideshow": {
     "slide_type": "slide"
    }
   },
   "source": [
    "## Hypothesis 1\n",
    "\n",
    "Since we know this data is simulated, we wanted to test its accuracy by visualizing the weights of males vs females. We know that males on average weigh more than females and wanted to confirm the dataset would reflect this properly."
   ]
  },
  {
   "cell_type": "code",
   "execution_count": null,
   "id": "ee493f1d-54cf-45f2-8328-6797b15cca06",
   "metadata": {
    "slideshow": {
     "slide_type": "slide"
    }
   },
   "outputs": [],
   "source": [
    "#Extracting weights of males and dropping any unknown values\n",
    "male  = gymData[gymData['Gender'] == 'Male']['Weight(kg)'].dropna()\n",
    "\n",
    "#Extracting weights of females and dropping and unknown values\n",
    "female = gymData[gymData['Gender'] == 'Female']['Weight(kg)'].dropna()\n",
    "\n",
    "#Extracting weights of everyone and dropping unknown values\n",
    "weight = gymData['Weight(kg)'].dropna()\n",
    "\n",
    "#Assigning the width for the histogram bins\n",
    "width = 3\n",
    "\n",
    "#Creating bins from 0 - 140 pounds, in increments of 3\n",
    "bins = np.arange(0,140, width)"
   ]
  },
  {
   "cell_type": "code",
   "execution_count": null,
   "id": "ccf673c5-d544-4ab1-a0f9-919584b9c427",
   "metadata": {
    "slideshow": {
     "slide_type": "slide"
    }
   },
   "outputs": [],
   "source": [
    "#Creating an empty plot with 1 row and 2 columns\n",
    "fig, axes = plt.subplots(nrows=1, ncols=2, figsize=(10,5))\n",
    "\n",
    "# Male histogram\n",
    "axes[0].hist(male, bins=bins, width=0.75*width, color=(27/255, 127/255, 121/255))\n",
    "axes[0].set_title('Male Weight', fontname='Times New Roman', fontsize=20)\n",
    "axes[0].set_xlabel('Weight(lbs)', fontname='Times New Roman')\n",
    "axes[0].set_ylabel('Amount of people', fontname='Times New Roman')\n",
    "axes[0].set_xlim(0, 200)\n",
    "\n",
    "# Female histogram\n",
    "axes[1].hist(female, bins=bins, width=0.75*width,  color=(255/255, 72/255, 88/255))\n",
    "axes[1].set_title('Female Weight', fontname='Times New Roman', fontsize=20)\n",
    "axes[1].set_xlabel('Weight(lbs)', fontname='Times New Roman')\n",
    "axes[1].set_ylabel('Amount of people', fontname='Times New Roman')\n",
    "axes[1].set_xlim(0, 200)"
   ]
  },
  {
   "cell_type": "markdown",
   "id": "a3065405",
   "metadata": {
    "slideshow": {
     "slide_type": "slide"
    }
   },
   "source": [
    "# Analysis"
   ]
  },
  {
   "cell_type": "markdown",
   "id": "c81fe826-8226-44c1-92ec-f579f5edc0a9",
   "metadata": {
    "slideshow": {
     "slide_type": "fragment"
    }
   },
   "source": [
    "To ensure accuracy, lets look at the max and minimum values of the graphs to make sure they make sense with the visualization."
   ]
  },
  {
   "cell_type": "code",
   "execution_count": null,
   "id": "64e61d83-945d-48e5-91df-f5368b6ff684",
   "metadata": {
    "slideshow": {
     "slide_type": "slide"
    }
   },
   "outputs": [],
   "source": [
    "print(f'The maximum weight for males is {male.max()}.\\n')\n",
    "print(f'The minimum weight for males is {male.min()}.\\n')\n",
    "print(f'The maximum weight for females is {female.max()}.\\n')\n",
    "print(f'The minimum weight for females is {female.min()}.\\n')\n",
    "print('This is represented in our visualization.\\n')"
   ]
  },
  {
   "cell_type": "markdown",
   "id": "9ba30b4e",
   "metadata": {
    "slideshow": {
     "slide_type": "fragment"
    }
   },
   "source": [
    "These statistics indicate that males generally weigh more than females in this dataset"
   ]
  },
  {
   "cell_type": "markdown",
   "id": "828e81cc",
   "metadata": {
    "slideshow": {
     "slide_type": "slide"
    }
   },
   "source": [
    "# Conclusion"
   ]
  },
  {
   "cell_type": "markdown",
   "id": "275c2b22",
   "metadata": {
    "slideshow": {
     "slide_type": "fragment"
    }
   },
   "source": [
    "The data supports our hypothesis confirming that the simulated dataset correctly follows real-world expectantions in terms of weight distribution by gender."
   ]
  },
  {
   "cell_type": "markdown",
   "id": "1e2a7736-9631-4bdb-b4b0-024a51f101ac",
   "metadata": {
    "slideshow": {
     "slide_type": "slide"
    }
   },
   "source": [
    "# Hypothesis 2"
   ]
  },
  {
   "cell_type": "markdown",
   "id": "80b533b3-78ca-4b12-b9d2-88170fce4a1a",
   "metadata": {
    "slideshow": {
     "slide_type": "fragment"
    }
   },
   "source": [
    "For our next analysis we're going to be filtering our data by the 4 different workout types in this dataset: Yoga, Strength, HIIT (High Intensity Interval Training), and Cardio. We'll specifically be looking at the comparison between the session duration and calories burned. We predict that HIIT will have the highest amount of calories burned because of the intensity of the workouts. "
   ]
  },
  {
   "cell_type": "code",
   "execution_count": null,
   "id": "54b7f871-738e-4328-97c2-7700f7b773dc",
   "metadata": {
    "slideshow": {
     "slide_type": "skip"
    }
   },
   "outputs": [],
   "source": [
    "#Assigning variables to each category\n",
    "dur = 'Session_Duration (hours)'\n",
    "cal = 'Calories_Burned'\n",
    "wType = 'Workout_Type'"
   ]
  },
  {
   "cell_type": "code",
   "execution_count": null,
   "id": "42608d6a-d453-4746-9980-79e0d2b7208c",
   "metadata": {
    "slideshow": {
     "slide_type": "subslide"
    }
   },
   "outputs": [],
   "source": [
    "#Filtering the data by workout type yoga and setting duration and calories to ascending so it plots properly\n",
    "yogaFilter = gymData[gymData[wType] == 'Yoga'].sort_values(by=[dur, cal], ascending=[True, True])\n",
    "yogaDur = yogaFilter[dur]\n",
    "yogaCal = yogaFilter[cal]"
   ]
  },
  {
   "cell_type": "code",
   "execution_count": null,
   "id": "c0715276-a45e-42d9-b1d7-1b5a3bd8f3cd",
   "metadata": {
    "slideshow": {
     "slide_type": "fragment"
    }
   },
   "outputs": [],
   "source": [
    "#Filtering the data by workout type strength\n",
    "strengthFilter = gymData[gymData[wType] == 'Strength'].sort_values(by =[dur, cal], ascending=[True, True])\n",
    "strengthDur = strengthFilter[dur]\n",
    "strengthCal = strengthFilter[cal]"
   ]
  },
  {
   "cell_type": "code",
   "execution_count": null,
   "id": "004216dc-b728-48a1-8f81-67b51c661ccf",
   "metadata": {
    "slideshow": {
     "slide_type": "fragment"
    }
   },
   "outputs": [],
   "source": [
    "#Filtering the data by workout type hiit\n",
    "hiitFilter = gymData[gymData[wType] == 'HIIT'].sort_values(by=[dur, cal], ascending = [True, True])\n",
    "hiitDur = hiitFilter[dur]\n",
    "hiitCal = hiitFilter[cal]"
   ]
  },
  {
   "cell_type": "code",
   "execution_count": null,
   "id": "47e1d8de-2fa5-48d1-b021-c3b01b4c54c8",
   "metadata": {
    "slideshow": {
     "slide_type": "fragment"
    }
   },
   "outputs": [],
   "source": [
    "#Filtering the data by workout type cardio\n",
    "cardioFilter = gymData[gymData[wType] == 'Cardio'].sort_values(by=[dur, cal], ascending = [True, True])\n",
    "cardioDur = cardioFilter[dur]\n",
    "cardioCal = cardioFilter[cal]"
   ]
  },
  {
   "cell_type": "code",
   "execution_count": null,
   "id": "e55d9005-681f-40d3-89c6-ca25cc113489",
   "metadata": {
    "slideshow": {
     "slide_type": "slide"
    }
   },
   "outputs": [],
   "source": [
    "#Creating an empty 2x2 plot\n",
    "def plot1(option):\n",
    "    \n",
    "    fig, ax = plt.subplots(figsize = (10,6))\n",
    "    ax.set_xlim(0.5, 2.01)\n",
    "    ax.set_ylim(300, 1800)\n",
    "\n",
    "    ax.set_xlabel('Time (Hrs)', fontname = 'Times New Roman', fontsize = 18)\n",
    "    ax.set_ylabel('Calories Burned', fontname = 'Times New Roman', fontsize = 18)\n",
    "\n",
    "    ax.grid()\n",
    "    #Creating main title\n",
    "    #fig.suptitle('Calories Burned Over Time by Workout Type', fontsize = 36, fontname = 'Times New Roman')\n",
    "        #Plotting each workout type by duration and calories and setting xlim and ylim\n",
    "    if 'Yoga' in option:\n",
    "        ax.scatter(yogaDur, yogaCal, color = (69/255, 196/255, 176/255))\n",
    "        ax.set_title('Yoga', fontname = 'Times New Roman', fontsize = 22)\n",
    "    elif 'Strength' in option:\n",
    "        ax.scatter(strengthDur, strengthCal, color = (19/255, 103/255, 138/225))\n",
    "        ax.set_title('Strength', fontname = 'Times New Roman', fontsize = 22)\n",
    "    elif 'HIIT' in option:\n",
    "        ax.scatter(hiitDur, hiitCal, color = (154/255, 235/255, 163/255))\n",
    "        ax.set_title('HIIT', fontname = 'Times New Roman', fontsize = 22)\n",
    "    elif 'Cardio' in option:\n",
    "        ax.scatter(cardioDur, cardioCal, color = (1/255, 32/255, 48/255))\n",
    "        ax.set_title('Cardio', fontname = 'Times New Roman', fontsize = 22)"
   ]
  },
  {
   "cell_type": "code",
   "execution_count": null,
   "id": "6797e126",
   "metadata": {
    "slideshow": {
     "slide_type": "subslide"
    }
   },
   "outputs": [],
   "source": [
    "sliderStyle = {'description_width': '200px'}\n",
    "sliderLayout = widgets.Layout(width='600px')\n",
    "workoutType = widgets.Select(options = ['HIIT', 'Strength', 'Cardio', 'Yoga'], value = 'HIIT', description = 'Select Multiple', layout = sliderLayout, style=sliderStyle)\n",
    "interactivePlot = interactive(plot1, option = workoutType)\n",
    "display(interactivePlot)"
   ]
  },
  {
   "cell_type": "code",
   "execution_count": null,
   "id": "2f521da8",
   "metadata": {
    "slideshow": {
     "slide_type": "slide"
    }
   },
   "outputs": [],
   "source": []
  },
  {
   "cell_type": "markdown",
   "id": "86a9bb96-459a-48c7-ad70-0dcbdef735f7",
   "metadata": {
    "slideshow": {
     "slide_type": "slide"
    }
   },
   "source": [
    "# Analysis"
   ]
  },
  {
   "cell_type": "code",
   "execution_count": null,
   "id": "b327c6b7-7730-4d94-a0c4-68936ec626db",
   "metadata": {
    "slideshow": {
     "slide_type": "fragment"
    }
   },
   "outputs": [],
   "source": [
    "print(f'The max amount of calories burned for yoga is {yogaCal.max()} calories after {round(yogaDur.max(), 1)} hours.\\n')\n",
    "print(f'The max amount of calories burned for strength training is {strengthCal.max()} calories after {round(strengthDur.max(), 1)} hours.\\n')\n",
    "print(f'The max amount of calories burned for HIIT is {hiitCal.max()} calories after {round(hiitDur.max(), 1)} hours.\\n')\n",
    "print(f'The max amount of calories burned for Cardio is {cardioCal.max()} calories after {round(cardioDur.max(), 1)} hours.\\n')"
   ]
  },
  {
   "cell_type": "markdown",
   "id": "30218331-5797-4a04-bb70-9c97360b8d2d",
   "metadata": {
    "slideshow": {
     "slide_type": "fragment"
    }
   },
   "source": [
    "From these numbers we can see strength training actually has the highest amount of calories burned (not by much). Let's calculate the averages to see if the outcome is consistent with the max value and average."
   ]
  },
  {
   "cell_type": "code",
   "execution_count": null,
   "id": "a6d001f2-376e-4875-94e5-6dc15d9c57e6",
   "metadata": {
    "slideshow": {
     "slide_type": "slide"
    }
   },
   "outputs": [],
   "source": [
    "print(f'The average amount of calories burned for yoga is {round(yogaCal.mean(), 2)} calories.\\n')\n",
    "print(f'The average amount of calories burned for strength training is {round(strengthCal.mean(), 2)} calories.\\n')\n",
    "print(f'The average amount of calories burned for HIIT is {round(hiitCal.mean(), 2)} calories.\\n')\n",
    "print(f'The average amount of calories burned for cardio is {round(cardioCal.mean(), 2)} calories.\\n')"
   ]
  },
  {
   "cell_type": "markdown",
   "id": "24ba09f8",
   "metadata": {
    "slideshow": {
     "slide_type": "slide"
    }
   },
   "source": [
    "# Conclusion"
   ]
  },
  {
   "cell_type": "markdown",
   "id": "648401a1-bb07-4dbb-ba40-0b26510d183c",
   "metadata": {
    "slideshow": {
     "slide_type": "fragment"
    }
   },
   "source": [
    "According to these numbers, strength training on average does not seem to be the workout type that burns the most calories. Again, while the difference is not significant, there is still a difference. Surprisingly, cardio seemed to be the workout type that on average burnt the least calories which you wouldn't think would be the case. I believe this is because nobody wants to run on a treadmill for 2 hours. These average calculations prove our hypothesis correct, that HIIT burns the most calories."
   ]
  },
  {
   "cell_type": "markdown",
   "id": "bc4b1a73-1033-4dfb-ad8c-fbe420ab6f95",
   "metadata": {
    "slideshow": {
     "slide_type": "slide"
    }
   },
   "source": [
    "# Hypothesis 3"
   ]
  },
  {
   "cell_type": "markdown",
   "id": "ad164840-13fb-461a-b9c5-59135d1fd5f1",
   "metadata": {
    "slideshow": {
     "slide_type": "fragment"
    }
   },
   "source": [
    "For our last graph, we will be analyzing the correlation between calories burned and weight. We predict the more you weigh, the more calories you burn when exercising. "
   ]
  },
  {
   "cell_type": "markdown",
   "id": "d3073dd4",
   "metadata": {
    "slideshow": {
     "slide_type": "slide"
    }
   },
   "source": [
    "# Analysis"
   ]
  },
  {
   "cell_type": "code",
   "execution_count": null,
   "id": "515a4629-fae9-45b8-9ada-e5ad0f54eaf9",
   "metadata": {
    "slideshow": {
     "slide_type": "fragment"
    }
   },
   "outputs": [],
   "source": [
    "# Assigning variables to the data\n",
    "calBurn = gymData['Calories_Burned'].dropna()\n",
    "\n",
    "# Sorting data by weight\n",
    "sortData = gymData[['Weight(kg)', 'Calories_Burned', 'Session_Duration (hours)']].dropna().sort_values(by='Weight(kg)')\n",
    "\n",
    "# Extract sorted values\n",
    "sortWeight = sortData['Weight(kg)']\n",
    "sortCalBurn = sortData['Calories_Burned']\n",
    "sortDuration = sortData['Session_Duration (hours)']"
   ]
  },
  {
   "cell_type": "code",
   "execution_count": null,
   "id": "64a7a032",
   "metadata": {
    "slideshow": {
     "slide_type": "subslide"
    }
   },
   "outputs": [],
   "source": [
    "# Create a scatter plot\n",
    "fig, axes = plt.subplots()\n",
    "#axes.scatter(sortWeight, sortCalBurn, color=(0/255, 204/255, 192/255), edgecolor='black')\n",
    "myPlot = axes.scatter(sortWeight, sortCalBurn, c=sortDuration, cmap='magma', edgecolor='black')\n",
    "cbar = fig.colorbar(myPlot, ax=axes, label = 'Session Duration (hours)')\n",
    "\n",
    "# Labels\n",
    "axes.set_xlabel('Weight', fontname='Times New Roman', fontsize = 16)\n",
    "axes.set_ylabel('Calories Burned', fontname='Times New Roman', fontsize = 16)\n",
    "axes.set_title('Weight vs. Calories Burned')"
   ]
  },
  {
   "cell_type": "markdown",
   "id": "24c7113d-d6c1-4985-9d6d-8cea0554eb8a",
   "metadata": {
    "slideshow": {
     "slide_type": "slide"
    }
   },
   "source": [
    "# Conclusion"
   ]
  },
  {
   "cell_type": "markdown",
   "id": "714b2a72-68a6-4092-be10-51d7ddfdbfb0",
   "metadata": {
    "slideshow": {
     "slide_type": "fragment"
    }
   },
   "source": [
    "This scatter plot doesn't show a linear relationship between weight and calories burned. We can see a cluster around 70kgs and 893 calories burned because based on our previous histogram, we saw that there aren't any females that weigh more than 79.9 pounds. This means the biggest representation of males and females is between 50-70kg. There is a lighter cluster at the end because it is only representing the weight of males. The colors of the graph represent the duration of each workout session. From the graph, we can see that the longer you spend exercising, the more calories you burn. This disproves our hypothesis by showing us there isn't necessarily a connection between your weight and calories burned, but moreso a connection between session duration and calories burned. "
   ]
  }
 ],
 "metadata": {
  "celltoolbar": "Slideshow",
  "kernelspec": {
   "display_name": "base",
   "language": "python",
   "name": "python3"
  },
  "language_info": {
   "codemirror_mode": {
    "name": "ipython",
    "version": 3
   },
   "file_extension": ".py",
   "mimetype": "text/x-python",
   "name": "python",
   "nbconvert_exporter": "python",
   "pygments_lexer": "ipython3",
   "version": "3.12.7"
  }
 },
 "nbformat": 4,
 "nbformat_minor": 5
}
